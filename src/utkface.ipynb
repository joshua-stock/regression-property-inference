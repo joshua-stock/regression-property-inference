{
 "cells": [
  {
   "cell_type": "markdown",
   "id": "6bbcc9c9f1608c68",
   "metadata": {},
   "source": [
    "## UTKFace experiments"
   ]
  },
  {
   "cell_type": "code",
   "execution_count": null,
   "id": "initial_id",
   "metadata": {},
   "outputs": [],
   "source": [
    "from utk_functions import get_distributed_utk_sets, get_lbfw_dataset, data_train_test_utk\n",
    "\n",
    "# auxiliary data sets with specific property values:\n",
    "all_dist = get_distributed_utk_sets()\n",
    "\n",
    "# whole UTK data set, test data will be used for evaluation\n",
    "X_train, X_test, y_train, y_test, _, _ = data_train_test_utk()\n",
    "\n",
    "# attack data set\n",
    "model_input = get_lbfw_dataset()"
   ]
  },
  {
   "cell_type": "code",
   "execution_count": 2,
   "id": "71b2dba32d059c6f",
   "metadata": {},
   "outputs": [
    {
     "name": "stdout",
     "output_type": "stream",
     "text": [
      "Training model for dist=0.5\n"
     ]
    },
    {
     "name": "stderr",
     "output_type": "stream",
     "text": [
      "2025-03-17 23:40:39.503637: E external/local_xla/xla/stream_executor/cuda/cuda_platform.cc:51] failed call to cuInit: INTERNAL: CUDA error: Failed call to cuInit: UNKNOWN ERROR (303)\n"
     ]
    },
    {
     "name": "stdout",
     "output_type": "stream",
     "text": [
      "Epoch 1/5\n",
      "\u001B[1m85/85\u001B[0m \u001B[32m━━━━━━━━━━━━━━━━━━━━\u001B[0m\u001B[37m\u001B[0m \u001B[1m9s\u001B[0m 73ms/step - accuracy: 0.6801 - loss: 1.1648 - val_accuracy: 0.8279 - val_loss: 0.3830\n",
      "Epoch 2/5\n",
      "\u001B[1m85/85\u001B[0m \u001B[32m━━━━━━━━━━━━━━━━━━━━\u001B[0m\u001B[37m\u001B[0m \u001B[1m6s\u001B[0m 65ms/step - accuracy: 0.8428 - loss: 0.3451 - val_accuracy: 0.8435 - val_loss: 0.3490\n",
      "Epoch 3/5\n",
      "\u001B[1m85/85\u001B[0m \u001B[32m━━━━━━━━━━━━━━━━━━━━\u001B[0m\u001B[37m\u001B[0m \u001B[1m5s\u001B[0m 64ms/step - accuracy: 0.8752 - loss: 0.2986 - val_accuracy: 0.8570 - val_loss: 0.3194\n",
      "Epoch 4/5\n",
      "\u001B[1m85/85\u001B[0m \u001B[32m━━━━━━━━━━━━━━━━━━━━\u001B[0m\u001B[37m\u001B[0m \u001B[1m5s\u001B[0m 63ms/step - accuracy: 0.8945 - loss: 0.2540 - val_accuracy: 0.8327 - val_loss: 0.3746\n",
      "Epoch 5/5\n",
      "\u001B[1m85/85\u001B[0m \u001B[32m━━━━━━━━━━━━━━━━━━━━\u001B[0m\u001B[37m\u001B[0m \u001B[1m5s\u001B[0m 62ms/step - accuracy: 0.9121 - loss: 0.2156 - val_accuracy: 0.8813 - val_loss: 0.2786\n"
     ]
    }
   ],
   "source": [
    "# example to train single utkface target/shadow model\n",
    "from common.functions import get_lucasnet_model\n",
    "import keras\n",
    "\n",
    "target_dist = all_dist[4] \n",
    "\n",
    "#for dist in some_dist:\n",
    "dist = target_dist\n",
    "print(f\"Training model for dist={dist.distribution}\")\n",
    "model = get_lucasnet_model(num_classes=2, input_shape=(64, 64, 3))\n",
    "model.compile(\n",
    "    optimizer=keras.optimizers.Adam(),#W(learning_rate=0.0001, weight_decay=0.0001),\n",
    "    loss=keras.losses.CategoricalCrossentropy(),\n",
    "    metrics=['accuracy']\n",
    ")\n",
    "hist = model.fit(\n",
    "    dist.X_train, dist.y_train,\n",
    "    batch_size=32,\n",
    "    epochs=5,\n",
    "    validation_data=(dist.X_test, dist.y_test)\n",
    ")"
   ]
  },
  {
   "cell_type": "markdown",
   "id": "3d6565a5ab0f9952",
   "metadata": {},
   "source": [
    "## Black-box regression property inference"
   ]
  },
  {
   "cell_type": "code",
   "execution_count": 4,
   "id": "63db8aff34878e0f",
   "metadata": {},
   "outputs": [],
   "source": [
    "# shadow models must be trained before (see separate script)\n",
    "import pandas as pd\n",
    "\n",
    "# loading shadow model outputs as adversary's train/test data\n",
    "adv_train = pd.concat([pd.read_csv(f\"utkface/data/shadow_model_outputs/{dist}/train.csv\") for dist in [0.1, 0.2, 0.3, 0.4, 0.5, 0.6, 0.7, 0.8, 0.9]])\n",
    "adv_test = pd.concat([pd.read_csv(f\"utkface/data/shadow_model_outputs/{dist}/test.csv\") for dist in [0.1, 0.2, 0.3, 0.4, 0.5, 0.6, 0.7, 0.8, 0.9]])\n",
    "\n",
    "adv_y = adv_train[\"y\"]\n",
    "adv_X = adv_train.drop(columns=[\"y\"])\n",
    "adv_y_test = adv_test[\"y\"]\n",
    "adv_X_test = adv_test.drop(columns=[\"y\"])"
   ]
  },
  {
   "cell_type": "code",
   "execution_count": 5,
   "id": "4010e937-c302-4f45-8be4-d0e31baf38a4",
   "metadata": {},
   "outputs": [],
   "source": [
    "from utk_functions import utk_adversary\n",
    "\n",
    "adv = utk_adversary()\n",
    "adv.compile(optimizer=keras.optimizers.Adam(), loss=keras.losses.MeanSquaredError(), metrics=[keras.metrics.R2Score()])"
   ]
  },
  {
   "cell_type": "code",
   "execution_count": null,
   "id": "4ff55ec651aec7b0",
   "metadata": {},
   "outputs": [],
   "source": [
    "# train adversary\n",
    "checkpoint_filepath = 'utkface/models/manual_tuning_checkpoints-2/keras.weights.h5'\n",
    "history = adv.fit(\n",
    "    adv_X,\n",
    "    adv_y,\n",
    "    epochs=200,\n",
    "    validation_data=(adv_X_test, adv_y_test),\n",
    "    callbacks=[\n",
    "        keras.callbacks.EarlyStopping('val_r2_score', mode='max', patience=25, verbose=1),\n",
    "        keras.callbacks.ModelCheckpoint(\n",
    "            filepath=checkpoint_filepath,\n",
    "            save_weights_only=True,\n",
    "            monitor='val_r2_score',\n",
    "            mode='max',\n",
    "            save_best_only=True)\n",
    "    ])"
   ]
  },
  {
   "cell_type": "code",
   "execution_count": null,
   "id": "ee82984e45b17925",
   "metadata": {},
   "outputs": [],
   "source": [
    "adv.load_weights('utkface/models/manual_tuning_checkpoints/keras.weights.h5')\n",
    "adv.evaluate(adv_X_test, adv_y_test)"
   ]
  },
  {
   "cell_type": "code",
   "execution_count": null,
   "id": "af350d745444ce1e",
   "metadata": {},
   "outputs": [],
   "source": [
    "adv.save('utkface/models/bb-adversary.keras')"
   ]
  },
  {
   "cell_type": "code",
   "execution_count": 6,
   "id": "58dc7f95de2c2688",
   "metadata": {},
   "outputs": [
    {
     "name": "stderr",
     "output_type": "stream",
     "text": [
      "/export/home/stock/anaconda3/envs/pia-tf/lib/python3.10/site-packages/keras/src/saving/saving_lib.py:757: UserWarning: Skipping variable loading for optimizer 'adam', because it has 2 variables whereas the saved optimizer has 14 variables. \n",
      "  saveable.load_own_variables(weights_store.get(inner_path))\n"
     ]
    }
   ],
   "source": [
    "# loading adversary\n",
    "adv = utk_adversary()\n",
    "adv.load_weights('utkface/models/adv_v2_0.63_r2.keras')"
   ]
  },
  {
   "cell_type": "code",
   "execution_count": 15,
   "id": "bd921e2c01543772",
   "metadata": {},
   "outputs": [
    {
     "name": "stdout",
     "output_type": "stream",
     "text": [
      "\u001B[1m414/414\u001B[0m \u001B[32m━━━━━━━━━━━━━━━━━━━━\u001B[0m\u001B[37m\u001B[0m \u001B[1m6s\u001B[0m 14ms/step\n",
      "true property value: 0.5, predicted: 0.61\n"
     ]
    }
   ],
   "source": [
    "# adversary attacks target model\n",
    "# black-box: adversary gets output of target model\n",
    "output = model.predict(model_input)\n",
    "formatted_input = output[:, 0].reshape(1, output.shape[0])\n",
    "adv_out = adv(formatted_input).numpy().flatten()[0]\n",
    "# this output is predicted property value of the target model\n",
    "print(f\"true property value: {target_dist.distribution}, predicted: {round(float(adv_out),2)}\")"
   ]
  },
  {
   "cell_type": "markdown",
   "id": "ae41cdd6f39978ac",
   "metadata": {},
   "source": [
    "## White-box regression property inference"
   ]
  },
  {
   "cell_type": "code",
   "execution_count": 16,
   "id": "24198c925af8e08b",
   "metadata": {},
   "outputs": [],
   "source": [
    "# white-box: advesary gets model weights as inputs\n",
    "# shadow models must be trained (and saved) first \n",
    "utk_base_path = \"utkface/models/shadow_models\""
   ]
  },
  {
   "cell_type": "code",
   "execution_count": 18,
   "id": "813ae2f8016b3425",
   "metadata": {},
   "outputs": [],
   "source": [
    "# load example target model for adversary:\n",
    "from common.whitebox_utils import do_read_single_model_params\n",
    "\n",
    "m_utk = keras.models.load_model(f'{utk_base_path}/0.1/train/0.keras')\n",
    "adv_inputs = do_read_single_model_params(m_utk)"
   ]
  },
  {
   "cell_type": "code",
   "execution_count": 19,
   "id": "47f30ba920ad5c08",
   "metadata": {},
   "outputs": [],
   "source": [
    "# load model weights as train/test data set for adversary \n",
    "from common.whitebox_utils import get_dataset\n",
    "\n",
    "ds_utk = get_dataset(200, utk_base_path, 'train')\n",
    "ds_test_utk = get_dataset(50, utk_base_path, 'test')"
   ]
  },
  {
   "cell_type": "code",
   "execution_count": 20,
   "id": "f80c4b966b784d16",
   "metadata": {},
   "outputs": [],
   "source": [
    "ds_utk_batched = ds_utk.shuffle(1800).batch(32, drop_remainder=True)\n",
    "ds_test_utk_batched = ds_test_utk.batch(8)"
   ]
  },
  {
   "cell_type": "code",
   "execution_count": 25,
   "id": "ad6bcae4-d439-469b-997f-13b2e48e12a0",
   "metadata": {},
   "outputs": [],
   "source": [
    "from keras import layers\n",
    "from common.whitebox_utils import *\n",
    "\n",
    "def get_wb_meta_clf(adv_inputs):\n",
    "    inputs = []\n",
    "    kernel_splitters = []\n",
    "    bias_splitters = []\n",
    "\n",
    "    phi_layers = []\n",
    "    for i in range(len(adv_inputs)):\n",
    "        for my_input in adv_inputs[i]:\n",
    "            keras_input = keras.Input(shape=my_input.shape, name=transform_input_name(my_input.path, i))\n",
    "            inputs.append(keras_input)\n",
    "            if my_input.path.find(\"conv\") >= 0 and my_input.path.find(\"kernel\") >= 0:\n",
    "                kernel_splitters.append(ConvSplitter(my_input.shape[3])(keras_input))\n",
    "            elif my_input.path.find(\"bias\") >= 0:\n",
    "                bias_splitters.append(BiasSplitter(my_input.shape[0])(keras_input))\n",
    "            else:\n",
    "                kernel_splitters.append(WeightsSplitter(my_input.shape[1])(keras_input))\n",
    "\n",
    "    phi_layers = []\n",
    "    for kernels, biases in zip(kernel_splitters, bias_splitters):\n",
    "        channel_outputs = []\n",
    "        for w, b in zip(kernels, biases):\n",
    "            flatten_w = layers.Flatten()(w)\n",
    "            reshaped_b = layers.Reshape((1,))(b)\n",
    "            concat = layers.concatenate([flatten_w, reshaped_b])\n",
    "            phi = layers.Dense(20, activation=\"relu\")(concat)\n",
    "            channel_outputs.append(phi)\n",
    "        my_phi = layers.Add()(channel_outputs)\n",
    "        phi_layers.append(my_phi)\n",
    "\n",
    "    x = layers.BatchNormalization()(layers.concatenate(phi_layers))\n",
    "    x = layers.Dropout(0.15)(x)\n",
    "    x = layers.Dense(30, activation='relu')(x)\n",
    "\n",
    "    #x = layers.Dropout(0.2)(x)\n",
    "    output = layers.Dense(1)(x)\n",
    "\n",
    "    return keras.Model(inputs=inputs, outputs=output)"
   ]
  },
  {
   "cell_type": "code",
   "execution_count": 26,
   "id": "8fa493577236780a",
   "metadata": {},
   "outputs": [],
   "source": [
    "# train white-box adversary\n",
    "from common.whitebox_utils import get_wb_meta_clf\n",
    "\n",
    "meta_clf = get_wb_meta_clf(adv_inputs)\n",
    "meta_clf.compile(optimizer=keras.optimizers.SGD(), loss=keras.losses.MeanAbsoluteError(), metrics=[keras.metrics.R2Score()])"
   ]
  },
  {
   "cell_type": "code",
   "id": "e81e66b663907c94",
   "metadata": {},
   "source": [
    "checkpoint_filepath = \"utkface/models/manual_checkpoints/wb-meta/best.weights.h5\"\n",
    "\n",
    "currentmax = 0.4\n",
    "for i in range(50): # multiple attempts\n",
    "    meta_clf = get_wb_meta_clf(adv_inputs)\n",
    "    meta_clf.compile(optimizer=keras.optimizers.SGD(), loss=keras.losses.MeanAbsoluteError(), metrics=[keras.metrics.R2Score()])\n",
    "    history = meta_clf.fit(\n",
    "        ds_utk_batched,\n",
    "        epochs=70,\n",
    "        validation_data=ds_test_utk_batched,\n",
    "        callbacks=[\n",
    "            keras.callbacks.EarlyStopping('val_r2_score', patience=5),\n",
    "            keras.callbacks.ModelCheckpoint(\n",
    "                filepath=checkpoint_filepath,\n",
    "                save_weights_only=True,\n",
    "                monitor='val_r2_score',\n",
    "                mode='max',\n",
    "                save_best_only=True)\n",
    "        ])\n",
    "    newmax = max(history.history['val_r2_score'])\n",
    "    if newmax > currentmax:\n",
    "        print(f\"new max r2: {newmax}\")\n",
    "        currentmax = newmax\n",
    "        meta_clf.load_weights(\"utkface/models/manual_checkpoints/wb-meta/best.weights.h5\")\n",
    "        meta_clf.save_weights(f\"utkface/models/wb_adv_utk_{round(newmax, 2)}_test_r2.keras\")"
   ],
   "outputs": [],
   "execution_count": null
  },
  {
   "cell_type": "code",
   "execution_count": null,
   "id": "b8146489c84a9127",
   "metadata": {},
   "outputs": [],
   "source": [
    "meta_clf.load_weights(f\"utkface/models/wb_adv_utk_{round(newmax, 2)}_test_r2.weights.h5\")"
   ]
  },
  {
   "cell_type": "code",
   "execution_count": null,
   "id": "9ab56e555d6added",
   "metadata": {},
   "outputs": [],
   "source": [
    "meta_clf.evaluate(ds_test_utk_batched)"
   ]
  },
  {
   "cell_type": "code",
   "execution_count": null,
   "id": "673cb53e-42e3-428f-b715-a8ba74edf246",
   "metadata": {},
   "outputs": [],
   "source": []
  }
 ],
 "metadata": {
  "kernelspec": {
   "display_name": "pia-tf",
   "language": "python",
   "name": "pia-tf"
  },
  "language_info": {
   "codemirror_mode": {
    "name": "ipython",
    "version": 3
   },
   "file_extension": ".py",
   "mimetype": "text/x-python",
   "name": "python",
   "nbconvert_exporter": "python",
   "pygments_lexer": "ipython3",
   "version": "3.10.16"
  }
 },
 "nbformat": 4,
 "nbformat_minor": 5
}
