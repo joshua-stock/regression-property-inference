{
 "cells": [
  {
   "cell_type": "markdown",
   "id": "356e3cd147019af5",
   "metadata": {
    "collapsed": false,
    "jupyter": {
     "outputs_hidden": false
    }
   },
   "source": [
    "# Adult\n",
    "## Black-box property inference adversary"
   ]
  },
  {
   "metadata": {},
   "cell_type": "code",
   "outputs": [],
   "execution_count": null,
   "source": [
    "import pandas as pd\n",
    "\n",
    "# load shadow model outputs\n",
    "adv_df = pd.read_csv(\"adult/data/shadow_model_outputs_proba-new.csv\")\n",
    "adv_ddf_shuffled = adv_df.sample(frac=1, random_state=1).reset_index(drop=True)\n",
    "adv_y = adv_ddf_shuffled[\"y\"]\n",
    "adv_X = adv_ddf_shuffled.drop(columns=[\"y\"])\n",
    "\n",
    "adv_df_test = pd.read_csv(\"adult/data/shadow_model_outputs_proba-new_test_set.csv\")\n",
    "adv_ddf_shuffled_test = adv_df_test.sample(frac=1, random_state=1).reset_index(drop=True)#.drop(columns=[\"Unnamed: 0\"])\n",
    "adv_y_test = adv_ddf_shuffled_test[\"y\"]\n",
    "adv_X_test = adv_ddf_shuffled_test.drop(columns=[\"y\"])"
   ],
   "id": "4354186644d82414"
  },
  {
   "metadata": {
    "ExecuteTime": {
     "end_time": "2024-01-29T12:30:29.102300226Z",
     "start_time": "2024-01-29T12:30:24.478913465Z"
    },
    "collapsed": true,
    "jupyter": {
     "outputs_hidden": true
    }
   },
   "cell_type": "code",
   "outputs": [
    {
     "name": "stderr",
     "output_type": "stream",
     "text": [
      "2024-01-29 13:30:25.512067: E external/local_xla/xla/stream_executor/cuda/cuda_dnn.cc:9261] Unable to register cuDNN factory: Attempting to register factory for plugin cuDNN when one has already been registered\n",
      "2024-01-29 13:30:25.512125: E external/local_xla/xla/stream_executor/cuda/cuda_fft.cc:607] Unable to register cuFFT factory: Attempting to register factory for plugin cuFFT when one has already been registered\n",
      "2024-01-29 13:30:25.541238: E external/local_xla/xla/stream_executor/cuda/cuda_blas.cc:1515] Unable to register cuBLAS factory: Attempting to register factory for plugin cuBLAS when one has already been registered\n",
      "2024-01-29 13:30:25.659455: I tensorflow/core/platform/cpu_feature_guard.cc:182] This TensorFlow binary is optimized to use available CPU instructions in performance-critical operations.\n",
      "To enable the following instructions: AVX2 FMA, in other operations, rebuild TensorFlow with the appropriate compiler flags.\n",
      "2024-01-29 13:30:26.874212: W tensorflow/compiler/tf2tensorrt/utils/py_utils.cc:38] TF-TRT Warning: Could not find TensorRT\n"
     ]
    }
   ],
   "execution_count": 1,
   "source": [
    "import numpy as np\n",
    "import keras\n",
    "from adult_functions import adult_adversary\n",
    "\n",
    "adversary = adult_adversary((adv_X.shape[1],))\n",
    "adversary.load_weights('adult/models/adv_new_0.65_test_r2')"
   ],
   "id": "initial_id"
  },
  {
   "metadata": {},
   "cell_type": "code",
   "outputs": [],
   "execution_count": null,
   "source": [
    "# train adversary\n",
    "checkpoint_filepath = 'adult/models/manual_tuning_checkpoints/keras.weights.h5'\n",
    "adversary = adult_adversary((adv_X.shape[1],))\n",
    "currentmax = 0.5\n",
    "for i in range(100): # multiple attempts\n",
    "    history = adversary.fit(\n",
    "        adv_X,\n",
    "        adv_y,\n",
    "        epochs=200,\n",
    "        validation_data=(adv_X_test, adv_y_test),\n",
    "        verbose=0,\n",
    "        batch_size=10,\n",
    "        callbacks=[\n",
    "            keras.callbacks.EarlyStopping('val_r2_score', mode='max', patience=20, verbose=1),\n",
    "            keras.callbacks.ModelCheckpoint(\n",
    "                filepath=checkpoint_filepath,\n",
    "                save_weights_only=True,\n",
    "                monitor='val_r2_score',\n",
    "                mode='max',\n",
    "                save_best_only=True)\n",
    "        ])\n",
    "    newmax = max(history.history['val_r2_score'])\n",
    "    if newmax > currentmax:\n",
    "        print(f\"new max r2: {newmax}\")\n",
    "        currentmax = newmax\n",
    "        adversary.load_weights(\"models/manual_tuning_checkpoints/keras.weights.h5\")\n",
    "        adversary.save(f\"adv_new_new_keras_{round(float(newmax),2)}_test_r2.keras\")"
   ],
   "id": "e7c6bcebdc2fff1c"
  },
  {
   "cell_type": "markdown",
   "id": "8e3131e765af9758",
   "metadata": {
    "collapsed": false,
    "jupyter": {
     "outputs_hidden": false
    }
   },
   "source": [
    "## Create (target) model"
   ]
  },
  {
   "cell_type": "code",
   "execution_count": 2,
   "id": "6eeefbee2a431b4b",
   "metadata": {
    "ExecuteTime": {
     "end_time": "2024-01-29T12:30:29.892716965Z",
     "start_time": "2024-01-29T12:30:29.105966475Z"
    },
    "collapsed": false,
    "jupyter": {
     "outputs_hidden": false
    }
   },
   "outputs": [],
   "source": [
    "from adult_functions import train_gradient_boosting_shadow_model, data_train_test\n",
    "import pandas as pd"
   ]
  },
  {
   "cell_type": "code",
   "execution_count": 3,
   "id": "ec1ef61f793cc16d",
   "metadata": {
    "ExecuteTime": {
     "end_time": "2024-01-29T12:30:47.129461739Z",
     "start_time": "2024-01-29T12:30:29.809618047Z"
    },
    "collapsed": false,
    "jupyter": {
     "outputs_hidden": false
    }
   },
   "outputs": [],
   "source": [
    "# load data\n",
    "X_train, X_test, y_train, y_test, sensitive, sensitive_t = data_train_test()\n",
    "# create model\n",
    "gb = train_gradient_boosting_shadow_model(X_train, y_train, 0)"
   ]
  },
  {
   "cell_type": "markdown",
   "id": "1a6315cffa45d03b",
   "metadata": {
    "collapsed": false,
    "jupyter": {
     "outputs_hidden": false
    }
   },
   "source": [
    "## Generate model output"
   ]
  },
  {
   "cell_type": "code",
   "execution_count": 4,
   "id": "38e529c09c7e28b2",
   "metadata": {
    "ExecuteTime": {
     "end_time": "2024-01-29T12:30:47.401825166Z",
     "start_time": "2024-01-29T12:30:47.132322448Z"
    },
    "collapsed": false,
    "jupyter": {
     "outputs_hidden": false
    }
   },
   "outputs": [],
   "source": [
    "# load synthetic model input\n",
    "model_input = pd.read_csv('adult/data/syn_data-new.csv')\n",
    "# generate model output\n",
    "out = gb.predict_proba(model_input)\n",
    "# reformat model output\n",
    "adversary_input = np.expand_dims(out[:,0], axis=0)"
   ]
  },
  {
   "cell_type": "markdown",
   "id": "388940ef8c7e91c3",
   "metadata": {
    "collapsed": false,
    "jupyter": {
     "outputs_hidden": false
    }
   },
   "source": [
    "## Attack"
   ]
  },
  {
   "cell_type": "code",
   "execution_count": 5,
   "id": "2f53922f2fec2760",
   "metadata": {
    "ExecuteTime": {
     "end_time": "2024-01-29T12:30:47.583108092Z",
     "start_time": "2024-01-29T12:30:47.400975702Z"
    },
    "collapsed": false,
    "jupyter": {
     "outputs_hidden": false
    }
   },
   "outputs": [
    {
     "name": "stdout",
     "output_type": "stream",
     "text": [
      "1/1 [==============================] - 0s 92ms/step\n"
     ]
    },
    {
     "data": {
      "text/plain": [
       "array([[0.8010835]], dtype=float32)"
      ]
     },
     "execution_count": 5,
     "metadata": {},
     "output_type": "execute_result"
    }
   ],
   "source": [
    "# generate adversary prediction\n",
    "adversary.predict(adversary_input)"
   ]
  },
  {
   "cell_type": "markdown",
   "id": "a5c77491bbf26b64",
   "metadata": {
    "collapsed": false,
    "jupyter": {
     "outputs_hidden": false
    }
   },
   "source": [
    "Result interpretation: The adversary has inferred that 80.1% of the target model's training data are male samples. "
   ]
  },
  {
   "cell_type": "code",
   "execution_count": null,
   "id": "a8390eb83d6c1da8",
   "metadata": {
    "collapsed": false,
    "jupyter": {
     "outputs_hidden": false
    }
   },
   "outputs": [],
   "source": []
  }
 ],
 "metadata": {
  "kernelspec": {
   "display_name": "Python 3 (ipykernel)",
   "language": "python",
   "name": "python3"
  },
  "language_info": {
   "codemirror_mode": {
    "name": "ipython",
    "version": 3
   },
   "file_extension": ".py",
   "mimetype": "text/x-python",
   "name": "python",
   "nbconvert_exporter": "python",
   "pygments_lexer": "ipython3",
   "version": "3.10.9"
  }
 },
 "nbformat": 4,
 "nbformat_minor": 5
}
